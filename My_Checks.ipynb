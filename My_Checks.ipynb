{
  "cells": [
    {
      "cell_type": "code",
      "source": [
        "# This is for my own setup\n",
        "\n",
        "# !ls -la /content\n",
        "# !git clone https://github.com/mehrdad-mirpourian/nlu_hw2.git\n",
        "# !ls -la /content/nlu_hw2\n",
        "\n",
        "\n",
        "# import os\n",
        "# os.chdir(\"/content/nlu_hw2\")\n",
        "# print(\"Current directory:\", os.getcwd())  # Should print /content/nlu_hw2\n",
        "\n",
        "# !ls -la"
      ],
      "metadata": {
        "colab": {
          "base_uri": "https://localhost:8080/"
        },
        "id": "GC1KUaCxjRTH",
        "outputId": "b505a910-1c7a-4e24-b11e-26e2d55561e1"
      },
      "id": "GC1KUaCxjRTH",
      "execution_count": 6,
      "outputs": [
        {
          "output_type": "stream",
          "name": "stdout",
          "text": [
            "total 156\n",
            "drwxr-xr-x 3 root root   4096 Mar  8 18:40 .\n",
            "drwxr-xr-x 1 root root   4096 Mar  8 18:40 ..\n",
            "drwxr-xr-x 8 root root   4096 Mar  8 18:40 .git\n",
            "-rw-r--r-- 1 root root 124125 Mar  8 18:40 hw2-pset.ipynb\n",
            "-rw-r--r-- 1 root root    589 Mar  8 18:40 My_Checks.ipynb\n",
            "-rw-r--r-- 1 root root   4903 Mar  8 18:40 README.md\n",
            "-rw-r--r-- 1 root root   1310 Mar  8 18:40 test_model.py\n",
            "-rw-r--r-- 1 root root   3952 Mar  8 18:40 train_model.py\n"
          ]
        }
      ]
    },
    {
      "cell_type": "code",
      "source": [
        "! pip install datasets evaluate optuna --quiet # install datasets if it is not included in your environment"
      ],
      "metadata": {
        "id": "8ylNFWYWDsnF"
      },
      "id": "8ylNFWYWDsnF",
      "execution_count": 7,
      "outputs": []
    },
    {
      "cell_type": "code",
      "source": [
        "import torch\n",
        "from collections.abc import Iterable\n",
        "from datasets import load_dataset\n",
        "\n",
        "# Model and tokenizer from 🤗 Transformers\n",
        "from transformers import AutoModelForSequenceClassification, \\\n",
        "    BertForSequenceClassification, BertTokenizerFast\n"
      ],
      "metadata": {
        "id": "rail9ez6EWLv"
      },
      "id": "rail9ez6EWLv",
      "execution_count": 8,
      "outputs": []
    },
    {
      "cell_type": "code",
      "source": [],
      "metadata": {
        "id": "vQugjfxHFE5z"
      },
      "id": "vQugjfxHFE5z",
      "execution_count": null,
      "outputs": []
    }
  ],
  "metadata": {
    "kernelspec": {
      "display_name": "Python 3 (ipykernel)",
      "language": "python",
      "name": "python3"
    },
    "language_info": {
      "codemirror_mode": {
        "name": "ipython",
        "version": 3
      },
      "file_extension": ".py",
      "mimetype": "text/x-python",
      "name": "python",
      "nbconvert_exporter": "python",
      "pygments_lexer": "ipython3",
      "version": "3.11.3"
    },
    "colab": {
      "provenance": [],
      "toc_visible": true
    }
  },
  "nbformat": 4,
  "nbformat_minor": 5
}